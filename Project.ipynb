{
  "nbformat": 4,
  "nbformat_minor": 0,
  "metadata": {
    "colab": {
      "name": "Copy of Project.ipynb",
      "provenance": [],
      "collapsed_sections": [
        "eAhBthfytiiH",
        "_C2fD-BxuP_N"
      ],
      "mount_file_id": "1FkEkErvR_pWMXVtWRcLGqZAqfeucW8eq",
      "authorship_tag": "ABX9TyMJFJvPblIKXWDbZd8wDaSR",
      "include_colab_link": true
    },
    "kernelspec": {
      "name": "python3",
      "display_name": "Python 3"
    },
    "language_info": {
      "name": "python"
    },
    "accelerator": "GPU"
  },
  "cells": [
    {
      "cell_type": "markdown",
      "metadata": {
        "id": "view-in-github",
        "colab_type": "text"
      },
      "source": [
        "<a href=\"https://colab.research.google.com/github/K7esavan/PGIS/blob/main/Project.ipynb\" target=\"_parent\"><img src=\"https://colab.research.google.com/assets/colab-badge.svg\" alt=\"Open In Colab\"/></a>"
      ]
    },
    {
      "cell_type": "code",
      "execution_count": null,
      "metadata": {
        "id": "b2-BE0mNtetI"
      },
      "outputs": [],
      "source": [
        ""
      ]
    },
    {
      "cell_type": "markdown",
      "source": [
        "# Downloading the source code from Github Repo\n",
        "\n",
        "Repo name : PGIS <br>\n",
        "Repo user   : K7esavan@github.com"
      ],
      "metadata": {
        "id": "eAhBthfytiiH"
      }
    },
    {
      "cell_type": "code",
      "source": [
        "!git clone https://github.com/K7esavan/PGIS.git"
      ],
      "metadata": {
        "colab": {
          "base_uri": "https://localhost:8080/"
        },
        "id": "fP7OHeTZtvh8",
        "outputId": "20edf71d-42a0-4521-c319-8af4ea671022"
      },
      "execution_count": 1,
      "outputs": [
        {
          "output_type": "stream",
          "name": "stdout",
          "text": [
            "Cloning into 'PGIS'...\n",
            "remote: Enumerating objects: 53, done.\u001b[K\n",
            "remote: Counting objects: 100% (53/53), done.\u001b[K\n",
            "remote: Compressing objects: 100% (36/36), done.\u001b[K\n",
            "remote: Total 53 (delta 22), reused 43 (delta 12), pack-reused 0\u001b[K\n",
            "Unpacking objects: 100% (53/53), done.\n"
          ]
        }
      ]
    },
    {
      "cell_type": "markdown",
      "source": [
        "For pulling the code, if required"
      ],
      "metadata": {
        "id": "teokM8Fvt-_5"
      }
    },
    {
      "cell_type": "code",
      "source": [
        "!git pull"
      ],
      "metadata": {
        "colab": {
          "base_uri": "https://localhost:8080/"
        },
        "id": "xnwJ7f-vt9NH",
        "outputId": "97fd0479-0943-4359-f7b7-b7b16a873b81"
      },
      "execution_count": 2,
      "outputs": [
        {
          "output_type": "stream",
          "name": "stdout",
          "text": [
            "fatal: not a git repository (or any of the parent directories): .git\n"
          ]
        }
      ]
    },
    {
      "cell_type": "code",
      "source": [
        "%cd PGIS"
      ],
      "metadata": {
        "colab": {
          "base_uri": "https://localhost:8080/"
        },
        "id": "kauejkGDuGHy",
        "outputId": "fe264c14-73cc-4bdf-ad72-caba31c1b2bb"
      },
      "execution_count": 3,
      "outputs": [
        {
          "output_type": "stream",
          "name": "stdout",
          "text": [
            "/content/PGIS\n"
          ]
        }
      ]
    },
    {
      "cell_type": "code",
      "source": [
        ""
      ],
      "metadata": {
        "id": "aQIXqf2EuJON"
      },
      "execution_count": 3,
      "outputs": []
    },
    {
      "cell_type": "code",
      "execution_count": 4,
      "metadata": {
        "colab": {
          "base_uri": "https://localhost:8080/"
        },
        "id": "RWSJpsyKqHjH",
        "outputId": "a34c7423-fbb3-43d7-ce1f-5e586a6ad3d0"
      },
      "outputs": [
        {
          "output_type": "stream",
          "name": "stdout",
          "text": [
            "Mounted at /content/drive\n"
          ]
        }
      ],
      "source": [
        "from google.colab import drive\n",
        "drive.mount('/content/drive')"
      ]
    },
    {
      "cell_type": "markdown",
      "source": [
        "# Run the code for Clean BBC dataset"
      ],
      "metadata": {
        "id": "sgYHbZxcvIBl"
      }
    },
    {
      "cell_type": "code",
      "source": [
        "!python3 main.py --root /content/drive/MyDrive"
      ],
      "metadata": {
        "colab": {
          "base_uri": "https://localhost:8080/"
        },
        "id": "kVVfg_uCvMbj",
        "outputId": "3fea59b7-40b3-4264-bf65-1886dbbdb2d0"
      },
      "execution_count": null,
      "outputs": [
        {
          "output_type": "stream",
          "name": "stdout",
          "text": [
            "/usr/local/lib/python3.7/dist-packages/torchvision/transforms/transforms.py:317: UserWarning: The use of the transforms.Scale transform is deprecated, please use transforms.Resize instead.\n",
            "  warnings.warn(\"The use of the transforms.Scale transform is deprecated, \" +\n",
            "/usr/local/lib/python3.7/dist-packages/torch/utils/data/dataloader.py:481: UserWarning: This DataLoader will create 4 worker processes in total. Our suggested max number of worker in current system is 2, which is smaller than what this DataLoader is going to create. Please be aware that excessive worker creation might get DataLoader running slow or even freeze, lower the worker number to avoid potential slowness/freeze if necessary.\n",
            "  cpuset_checked))\n",
            "Downloading: \"https://download.pytorch.org/models/vgg19-dcbb9e9d.pth\" to /root/.cache/torch/hub/checkpoints/vgg19-dcbb9e9d.pth\n",
            "100% 548M/548M [00:27<00:00, 20.8MB/s]\n",
            "model parameters :  <generator object Module.parameters at 0x7fae558991d0>\n",
            "total parameters :  32811785\n",
            "Traceback (most recent call last):\n",
            "  File \"main.py\", line 130, in <module>\n",
            "    image_loader):\n",
            "  File \"/usr/local/lib/python3.7/dist-packages/torch/utils/data/dataloader.py\", line 521, in __next__\n",
            "    data = self._next_data()\n",
            "  File \"/usr/local/lib/python3.7/dist-packages/torch/utils/data/dataloader.py\", line 1203, in _next_data\n",
            "    return self._process_data(data)\n",
            "  File \"/usr/local/lib/python3.7/dist-packages/torch/utils/data/dataloader.py\", line 1229, in _process_data\n",
            "    data.reraise()\n",
            "  File \"/usr/local/lib/python3.7/dist-packages/torch/_utils.py\", line 434, in reraise\n",
            "    raise exception\n",
            "FileNotFoundError: Caught FileNotFoundError in DataLoader worker process 0.\n",
            "Original Traceback (most recent call last):\n",
            "  File \"/usr/local/lib/python3.7/dist-packages/torch/utils/data/_utils/worker.py\", line 287, in _worker_loop\n",
            "    data = fetcher.fetch(index)\n",
            "  File \"/usr/local/lib/python3.7/dist-packages/torch/utils/data/_utils/fetch.py\", line 49, in fetch\n",
            "    data = [self.dataset[idx] for idx in possibly_batched_index]\n",
            "  File \"/usr/local/lib/python3.7/dist-packages/torch/utils/data/_utils/fetch.py\", line 49, in <listcomp>\n",
            "    data = [self.dataset[idx] for idx in possibly_batched_index]\n",
            "  File \"/content/PGIS/dataset.py\", line 58, in __getitem__\n",
            "    target_mask = imageio.imread(target_mask_path)\n",
            "  File \"/usr/local/lib/python3.7/dist-packages/imageio/core/functions.py\", line 221, in imread\n",
            "    reader = read(uri, format, \"i\", **kwargs)\n",
            "  File \"/usr/local/lib/python3.7/dist-packages/imageio/core/functions.py\", line 130, in get_reader\n",
            "    request = Request(uri, \"r\" + mode, **kwargs)\n",
            "  File \"/usr/local/lib/python3.7/dist-packages/imageio/core/request.py\", line 125, in __init__\n",
            "    self._parse_uri(uri)\n",
            "  File \"/usr/local/lib/python3.7/dist-packages/imageio/core/request.py\", line 273, in _parse_uri\n",
            "    raise FileNotFoundError(\"No such file: '%s'\" % fn)\n",
            "FileNotFoundError: No such file: '/content/drive/MyDrive/clean_bbc/Images/seg/7_48342.bmp'\n",
            "\n"
          ]
        }
      ]
    },
    {
      "cell_type": "code",
      "source": [
        ""
      ],
      "metadata": {
        "id": "UG7yPa6LvfL9"
      },
      "execution_count": null,
      "outputs": []
    }
  ]
}